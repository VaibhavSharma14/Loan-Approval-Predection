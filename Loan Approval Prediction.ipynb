{
 "cells": [
  {
   "cell_type": "code",
   "execution_count": 1,
   "id": "c7ca20e9",
   "metadata": {},
   "outputs": [],
   "source": [
    "import pandas as pd\n",
    "import numpy as np\n",
    "import matplotlib.pyplot as plt\n",
    "import seaborn as sns"
   ]
  },
  {
   "cell_type": "markdown",
   "id": "0154a6be",
   "metadata": {},
   "source": [
    "# Load CSV File"
   ]
  },
  {
   "cell_type": "code",
   "execution_count": 2,
   "id": "bcae9eda",
   "metadata": {},
   "outputs": [],
   "source": [
    "df = pd.read_csv('loan.csv')"
   ]
  },
  {
   "cell_type": "code",
   "execution_count": 3,
   "id": "83547685",
   "metadata": {},
   "outputs": [],
   "source": [
    "df"
   ]
  },
  {
   "cell_type": "code",
   "execution_count": 4,
   "id": "21a7ea66",
   "metadata": {},
   "outputs": [],
   "source": [
    "df.info()"
   ]
  },
  {
   "cell_type": "markdown",
   "id": "98ea895c",
   "metadata": {},
   "source": [
    "# Check Null Values"
   ]
  },
  {
   "cell_type": "code",
   "execution_count": 5,
   "id": "a50b7ab4",
   "metadata": {},
   "outputs": [],
   "source": [
    "df.isnull().sum()"
   ]
  },
  {
   "cell_type": "code",
   "execution_count": 6,
   "id": "38f57cad",
   "metadata": {},
   "outputs": [],
   "source": [
    "df['LoanAmount'].hist(bins = 20)"
   ]
  },
  {
   "cell_type": "code",
   "execution_count": 7,
   "id": "5fec9bcd",
   "metadata": {},
   "outputs": [],
   "source": [
    "df['LoanAmount_log'] = np.log(df['LoanAmount'])\n",
    "df['LoanAmount_log'].hist(bins = 20)"
   ]
  },
  {
   "cell_type": "code",
   "execution_count": 8,
   "id": "269148f6",
   "metadata": {},
   "outputs": [],
   "source": [
    "df.isnull().sum()"
   ]
  },
  {
   "cell_type": "code",
   "execution_count": 9,
   "id": "8243a436",
   "metadata": {},
   "outputs": [],
   "source": [
    "df['TotalIncome'] = df['ApplicantIncome'] + df['CoapplicantIncome']"
   ]
  },
  {
   "cell_type": "code",
   "execution_count": 10,
   "id": "8c6fa210",
   "metadata": {},
   "outputs": [],
   "source": [
    "df['TotalIncome'].hist(bins = 20)"
   ]
  },
  {
   "cell_type": "code",
   "execution_count": 11,
   "id": "22587cd0",
   "metadata": {},
   "outputs": [],
   "source": [
    "df['TotalIncome_log'] = np.log(df['TotalIncome'])"
   ]
  },
  {
   "cell_type": "code",
   "execution_count": 12,
   "id": "297d220e",
   "metadata": {},
   "outputs": [],
   "source": [
    "df['TotalIncome_log'].hist(bins = 20)"
   ]
  },
  {
   "cell_type": "code",
   "execution_count": 13,
   "id": "32526241",
   "metadata": {},
   "outputs": [],
   "source": [
    "df.isnull().sum()"
   ]
  },
  {
   "cell_type": "markdown",
   "id": "37d7456f",
   "metadata": {},
   "source": [
    "# Fill Null Values for better Analysis"
   ]
  },
  {
   "cell_type": "code",
   "execution_count": 14,
   "id": "98502136",
   "metadata": {},
   "outputs": [],
   "source": [
    "df['Gender'].fillna(df['Gender'].mode()[0],inplace = True)\n",
    "df['Married'].fillna(df['Married'].mode()[0],inplace = True)\n",
    "df['Dependents'].fillna(df['Dependents'].mode()[0],inplace = True)\n",
    "df['Self_Employed'].fillna(df['Self_Employed'].mode()[0],inplace = True)\n",
    "df['LoanAmount'].fillna(df['LoanAmount'].mean(),inplace = True)\n",
    "df['Loan_Amount_Term'].fillna(df['Loan_Amount_Term'].mode()[0],inplace = True)\n",
    "df['Credit_History'].fillna(df['Credit_History'].mode()[0],inplace = True)\n",
    "df['LoanAmount_log'].fillna(df['LoanAmount_log'].mean(),inplace = True)"
   ]
  },
  {
   "cell_type": "code",
   "execution_count": 15,
   "id": "af4bda9d",
   "metadata": {},
   "outputs": [],
   "source": [
    "df.isnull().sum()"
   ]
  },
  {
   "cell_type": "code",
   "execution_count": 16,
   "id": "16d9137d",
   "metadata": {},
   "outputs": [],
   "source": [
    "x = df.iloc[:,np.r_[1:5,9:11,13:15]].values\n",
    "y = df.iloc[:,12].values"
   ]
  },
  {
   "cell_type": "markdown",
   "id": "c65b2689",
   "metadata": {},
   "source": [
    "# Visualizations"
   ]
  },
  {
   "cell_type": "markdown",
   "id": "432ae630",
   "metadata": {},
   "source": [
    "# Group by Gender"
   ]
  },
  {
   "cell_type": "code",
   "execution_count": 17,
   "id": "73811bb6",
   "metadata": {},
   "outputs": [],
   "source": [
    "print(\"number of people who take loan as group by gender\")\n",
    "print(df['Gender'].value_counts())\n",
    "sns.countplot(data = df,x = 'Gender')"
   ]
  },
  {
   "cell_type": "code",
   "execution_count": 18,
   "id": "b0c95c3b",
   "metadata": {},
   "outputs": [],
   "source": [
    "# Group by Marital Status"
   ]
  },
  {
   "cell_type": "code",
   "execution_count": 19,
   "id": "27e72ac9",
   "metadata": {},
   "outputs": [],
   "source": [
    "print(\"number of people who take loan by marital Status\")\n",
    "print(df['Married'].value_counts())\n",
    "sns.countplot(data = df,x = 'Married')"
   ]
  },
  {
   "cell_type": "markdown",
   "id": "91ba6476",
   "metadata": {},
   "source": [
    "## Group by Education"
   ]
  },
  {
   "cell_type": "code",
   "execution_count": 20,
   "id": "868563d1",
   "metadata": {},
   "outputs": [],
   "source": [
    "print(\"number of people who take loan as group by Education\")\n",
    "print(df['Education'].value_counts())\n",
    "sns.countplot(data = df,x = 'Education')"
   ]
  },
  {
   "cell_type": "markdown",
   "id": "56a5df2a",
   "metadata": {},
   "source": [
    "# Group by Self Employed"
   ]
  },
  {
   "cell_type": "code",
   "execution_count": 21,
   "id": "29ab13cd",
   "metadata": {},
   "outputs": [],
   "source": [
    "print(\"number of people who take loan as group by Self Employed\")\n",
    "print(df['Self_Employed'].value_counts())\n",
    "sns.countplot(data = df,x = 'Self_Employed')"
   ]
  },
  {
   "cell_type": "markdown",
   "id": "09139bc7",
   "metadata": {},
   "source": [
    "# Group by Dependents"
   ]
  },
  {
   "cell_type": "code",
   "execution_count": 22,
   "id": "9e17392d",
   "metadata": {},
   "outputs": [],
   "source": [
    "print(\"number of people who take loan  as group by Dependents\")\n",
    "print(df['Dependents'].value_counts())\n",
    "sns.countplot(data = df,x = 'Dependents')"
   ]
  },
  {
   "cell_type": "markdown",
   "id": "2340cba8",
   "metadata": {},
   "source": [
    "# Group by Credit History"
   ]
  },
  {
   "cell_type": "code",
   "execution_count": 23,
   "id": "755293c4",
   "metadata": {},
   "outputs": [],
   "source": [
    "print(\"number of people who take loan  as group by credit history\")\n",
    "print(df['Credit_History'].value_counts())\n",
    "sns.countplot(data = df,x = 'Credit_History')"
   ]
  },
  {
   "cell_type": "markdown",
   "id": "ce855503",
   "metadata": {},
   "source": [
    "# Feature Engineering"
   ]
  },
  {
   "cell_type": "code",
   "execution_count": 24,
   "id": "2b499f10",
   "metadata": {},
   "outputs": [],
   "source": [
    "from sklearn.model_selection import train_test_split"
   ]
  },
  {
   "cell_type": "code",
   "execution_count": 25,
   "id": "668991fc",
   "metadata": {},
   "outputs": [],
   "source": [
    "X_train,X_test,y_train,y_test = train_test_split(x,y,test_size = 0.2,random_state = 0)\n",
    "\n",
    "from sklearn.preprocessing import LabelEncoder\n",
    "lex = LabelEncoder()"
   ]
  },
  {
   "cell_type": "code",
   "execution_count": 26,
   "id": "a656aab9",
   "metadata": {},
   "outputs": [],
   "source": [
    "for i in range(0,5):\n",
    "    X_train[:,i] = lex.fit_transform(X_train[:,i])\n",
    "    X_train[:,7] = lex.fit_transform(X_train[:,7])\n",
    "    \n",
    "X_train"
   ]
  },
  {
   "cell_type": "code",
   "execution_count": 27,
   "id": "e61eadb5",
   "metadata": {},
   "outputs": [],
   "source": [
    "ley = LabelEncoder()\n",
    "y_train = ley.fit_transform(y_train)"
   ]
  },
  {
   "cell_type": "code",
   "execution_count": 28,
   "id": "2c099279",
   "metadata": {},
   "outputs": [],
   "source": [
    "y_train"
   ]
  },
  {
   "cell_type": "code",
   "execution_count": 29,
   "id": "f7ddf40d",
   "metadata": {},
   "outputs": [],
   "source": [
    "for i in range(0,5):\n",
    "    X_test[:,i] = lex.fit_transform(X_test[:,i])\n",
    "    X_test[:,7] = lex.fit_transform(X_test[:,7])\n",
    "    \n",
    "X_test"
   ]
  },
  {
   "cell_type": "code",
   "execution_count": 30,
   "id": "d01fda46",
   "metadata": {},
   "outputs": [],
   "source": [
    "y_test = ley.fit_transform(y_test)"
   ]
  },
  {
   "cell_type": "code",
   "execution_count": 31,
   "id": "ded33591",
   "metadata": {},
   "outputs": [],
   "source": [
    "y_test"
   ]
  },
  {
   "cell_type": "code",
   "execution_count": 32,
   "id": "b55b40b9",
   "metadata": {},
   "outputs": [],
   "source": [
    "from sklearn.preprocessing import StandardScaler\n",
    "\n",
    "ss = StandardScaler()\n",
    "X_train = ss.fit_transform(X_train)\n",
    "X_test = ss.fit_transform(X_test)"
   ]
  },
  {
   "cell_type": "markdown",
   "id": "0afda7a2",
   "metadata": {},
   "source": [
    "# RandomForestClassifier Algorithm"
   ]
  },
  {
   "cell_type": "code",
   "execution_count": 33,
   "id": "8fa1acad",
   "metadata": {},
   "outputs": [],
   "source": [
    "from sklearn.ensemble import RandomForestClassifier\n",
    "\n",
    "rf_clf = RandomForestClassifier()\n",
    "rf_clf.fit(X_train,y_train)"
   ]
  },
  {
   "cell_type": "code",
   "execution_count": 34,
   "id": "d87ac142",
   "metadata": {},
   "outputs": [],
   "source": [
    "from sklearn import metrics\n",
    "y_pred = rf_clf.predict(X_test)\n",
    "\n",
    "print('Accuracy of random forest algo. is',metrics.accuracy_score(y_pred,y_test))\n",
    "\n",
    "y_pred"
   ]
  },
  {
   "cell_type": "markdown",
   "id": "d7156e94",
   "metadata": {},
   "source": [
    "# Naive Bayes Algorithm"
   ]
  },
  {
   "cell_type": "code",
   "execution_count": 35,
   "id": "049bf4f7",
   "metadata": {},
   "outputs": [],
   "source": [
    "from sklearn.naive_bayes import GaussianNB\n",
    "nb_clf = GaussianNB()\n",
    "nb_clf.fit(X_train,y_train)"
   ]
  },
  {
   "cell_type": "code",
   "execution_count": 36,
   "id": "8a6c0da6",
   "metadata": {},
   "outputs": [],
   "source": [
    "y_pred = nb_clf.predict(X_test)\n",
    "print('Accuracy of naive bayes algo. is',metrics.accuracy_score(y_pred,y_test))\n",
    "\n",
    "y_pred"
   ]
  },
  {
   "cell_type": "markdown",
   "id": "a1f65d86",
   "metadata": {},
   "source": [
    "# DecisionTreeClassifier Algorithm"
   ]
  },
  {
   "cell_type": "code",
   "execution_count": 37,
   "id": "6df44290",
   "metadata": {},
   "outputs": [],
   "source": [
    "from sklearn.tree import DecisionTreeClassifier\n",
    "dt_clf = DecisionTreeClassifier()\n",
    "dt_clf.fit(X_train,y_train)"
   ]
  },
  {
   "cell_type": "code",
   "execution_count": 38,
   "id": "d52bf3ec",
   "metadata": {},
   "outputs": [],
   "source": [
    "y_pred = dt_clf.predict(X_test)\n",
    "\n",
    "print('Accuracy of decision tree algo. is',metrics.accuracy_score(y_pred,y_test))"
   ]
  },
  {
   "cell_type": "markdown",
   "id": "b8daad11",
   "metadata": {},
   "source": [
    "# KNeighborsClassifier Algorithm"
   ]
  },
  {
   "cell_type": "code",
   "execution_count": 39,
   "id": "bd70d161",
   "metadata": {},
   "outputs": [],
   "source": [
    "from sklearn.neighbors import KNeighborsClassifier\n",
    "\n",
    "kn_clf = KNeighborsClassifier()\n",
    "\n",
    "kn_clf.fit(X_train,y_train)"
   ]
  },
  {
   "cell_type": "code",
   "execution_count": 40,
   "id": "eae78723",
   "metadata": {},
   "outputs": [],
   "source": [
    "y_pred = kn_clf.predict(X_test)\n",
    "\n",
    "print(print('Accuracy of Kneighbors algo. is',metrics.accuracy_score(y_pred,y_test)))\n",
    "\n",
    "y_pred"
   ]
  },
  {
   "cell_type": "markdown",
   "id": "66946d14",
   "metadata": {},
   "source": [
    "# The Conlusion is Best Accuracy is given by Naive Bayes Algorithm and it's Accuracy is 0.82%."
   ]
  },
  {
   "cell_type": "code",
   "execution_count": null,
   "id": "e2543ab8",
   "metadata": {},
   "outputs": [],
   "source": []
  }
 ],
 "metadata": {
  "kernelspec": {
   "display_name": "Python 3 (ipykernel)",
   "language": "python",
   "name": "python3"
  },
  "language_info": {
   "codemirror_mode": {
    "name": "ipython",
    "version": 3
   },
   "file_extension": ".py",
   "mimetype": "text/x-python",
   "name": "python",
   "nbconvert_exporter": "python",
   "pygments_lexer": "ipython3",
   "version": "3.10.5"
  }
 },
 "nbformat": 4,
 "nbformat_minor": 5
}
